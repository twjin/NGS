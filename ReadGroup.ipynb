{
 "metadata": {
  "name": "",
  "signature": "sha256:bbd5aca1d1a24aeb05a8204e71908b509e74d1c15ef07a80bbcbe165425a2bdb"
 },
 "nbformat": 3,
 "nbformat_minor": 0,
 "worksheets": [
  {
   "cells": [
    {
     "cell_type": "markdown",
     "metadata": {},
     "source": [
      "Read Group\n",
      "==\n",
      "\n",
      "GATK need to know that certain reads were sequenced together on a specific lane, as they attempt to compensate for variability from one sequencing run to the next. Others need to know that the data represents not just one, but many samples. Without the read group and sample information, the GATK has no way of determining this critical information."
     ]
    },
    {
     "cell_type": "code",
     "collapsed": false,
     "input": [
      "from IPython.display import HTML\n",
      "\n",
      "comparison = \"\"\"<table>\n",
      "<tr>\n",
      "<th>Tag</th>\n",
      "<th>Importance for GATK</th>\n",
      "<th>SAM specification definition</th>\n",
      "<th>Meaning</th>\n",
      "</tr>\n",
      "<tr>\n",
      "<td>ID</td>\n",
      "<td>Required</td>\n",
      "<td>Read group identifier. Each @RG line must have a unique ID. The value of ID is used in the RG tags of alignment records.\n",
      "Must be unique among all read groups in header section. Read groupIDs may be modified when merging SAM files in order to handle collisions.</td>\n",
      "<td>Ideally, this should be a globally unique identify across all sequencing data in the world, such as the Illumina flowcell + lane name and number. \n",
      "Will be referenced by each read with the RG:Z field, allowing tools to determine the read group information associated with each read, including the sample from which the read came. \n",
      "Also, a read group is effectively treated as a separate run of the NGS instrument in tools like base quality score recalibration -- all reads within a read group are assumed to come from the same instrument run and to therefore share the same error model.</td>\n",
      "</tr>\n",
      "<tr>\n",
      "<td>PL</td>\n",
      "<td>Platform technology used to produce the read. Valid values: ILLUMINA, SOLID, LS454, HELICOS and PACBIO.</td>\n",
      "<td>Important. Not currently used in the GATK, but was in the past, and may return. \n",
      "The only way to known the sequencing technology used to generate the sequencing data .</td>\n",
      "<td>It's a good idea to use this field.</td>\n",
      "</tr>\n",
      "<tr>\n",
      "<td>PU</td>\n",
      "<td>Platform unit, unique identifier (e.g flowcell-barcode.lane for illumina)</td>\n",
      "<td>Important. Not currently used in the GATK, but was in the past, and may return. \n",
      "The only way to known the sequencing technology used to generate the sequencing data .</td>\n",
      "<td>It's a good idea to use this field.</td>\n",
      "</tr>\n",
      "<tr>\n",
      "<tr>\n",
      "<td>LB</td>\n",
      "<td>DNA preparation library identify: Pair-end, Mate pair...etc</td>\n",
      "<td>Essential for MarkDuplicates</td>\n",
      "<td>MarkDuplicates uses the LB field to determine which read groups might contain molecular duplicates, in case the same DNA library was sequenced on multiple lanes.</td>\n",
      "</tr>\n",
      "<tr>\n",
      "<td>SM</td>\n",
      "<td>Sample. Use pool name where a pool is being sequenced.</td>\n",
      "<td>Required. As important as ID.</td>\n",
      "<td>The name of the sample sequenced in this read group. GATK tools treat all read groups with the same SM value as containing sequencing data for the same sample. \n",
      "Therefore it's critical that the SM field be correctly specified, especially when using multi-sample tools like the Unified Genotyper.</td>\n",
      "</tr>\n",
      "</table>\"\"\""
     ],
     "language": "python",
     "metadata": {},
     "outputs": [],
     "prompt_number": 43
    },
    {
     "cell_type": "code",
     "collapsed": false,
     "input": [
      "HTML(comparison)"
     ],
     "language": "python",
     "metadata": {},
     "outputs": [
      {
       "html": [
        "<table>\n",
        "<tr>\n",
        "<th>Tag</th>\n",
        "<th>Importance for GATK</th>\n",
        "<th>SAM specification definition</th>\n",
        "<th>Meaning</th>\n",
        "</tr>\n",
        "<tr>\n",
        "<td>ID</td>\n",
        "<td>Required</td>\n",
        "<td>Read group identifier. Each @RG line must have a unique ID. The value of ID is used in the RG tags of alignment records.\n",
        "Must be unique among all read groups in header section. Read groupIDs may be modified when merging SAM files in order to handle collisions.</td>\n",
        "<td>Ideally, this should be a globally unique identify across all sequencing data in the world, such as the Illumina flowcell + lane name and number. \n",
        "Will be referenced by each read with the RG:Z field, allowing tools to determine the read group information associated with each read, including the sample from which the read came. \n",
        "Also, a read group is effectively treated as a separate run of the NGS instrument in tools like base quality score recalibration -- all reads within a read group are assumed to come from the same instrument run and to therefore share the same error model.</td>\n",
        "</tr>\n",
        "<tr>\n",
        "<td>PL</td>\n",
        "<td>Platform technology used to produce the read. Valid values: ILLUMINA, SOLID, LS454, HELICOS and PACBIO.</td>\n",
        "<td>Important. Not currently used in the GATK, but was in the past, and may return. \n",
        "The only way to known the sequencing technology used to generate the sequencing data .</td>\n",
        "<td>It's a good idea to use this field.</td>\n",
        "</tr>\n",
        "<tr>\n",
        "<td>PU</td>\n",
        "<td>Platform unit, unique identifier (e.g flowcell-barcode.lane for illumina)</td>\n",
        "<td>Important. Not currently used in the GATK, but was in the past, and may return. \n",
        "The only way to known the sequencing technology used to generate the sequencing data .</td>\n",
        "<td>It's a good idea to use this field.</td>\n",
        "</tr>\n",
        "<tr>\n",
        "<tr>\n",
        "<td>LB</td>\n",
        "<td>DNA preparation library identify: Pair-end, Mate pair...etc</td>\n",
        "<td>Essential for MarkDuplicates</td>\n",
        "<td>MarkDuplicates uses the LB field to determine which read groups might contain molecular duplicates, in case the same DNA library was sequenced on multiple lanes.</td>\n",
        "</tr>\n",
        "<tr>\n",
        "<td>SM</td>\n",
        "<td>Sample. Use pool name where a pool is being sequenced.</td>\n",
        "<td>Required. As important as ID.</td>\n",
        "<td>The name of the sample sequenced in this read group. GATK tools treat all read groups with the same SM value as containing sequencing data for the same sample. \n",
        "Therefore it's critical that the SM field be correctly specified, especially when using multi-sample tools like the Unified Genotyper.</td>\n",
        "</tr>\n",
        "</table>"
       ],
       "metadata": {},
       "output_type": "pyout",
       "prompt_number": 44,
       "text": [
        "<IPython.core.display.HTML at 0x9c06780>"
       ]
      }
     ],
     "prompt_number": 44
    },
    {
     "cell_type": "markdown",
     "metadata": {},
     "source": [
      "Example\n",
      "=="
     ]
    },
    {
     "cell_type": "raw",
     "metadata": {},
     "source": [
      "Dad's data:\n",
      "\n",
      "@RG    ID:FLOWCELL1.LANE1    PL:ILLUMINA    LB:LIB-DAD-1    SM:DAD    PI:200\n",
      "@RG    ID:FLOWCELL1.LANE2    PL:ILLUMINA    LB:LIB-DAD-2    SM:DAD    PI:400\n",
      "\n",
      "Mom's data:\n",
      "\n",
      "@RG    ID:FLOWCELL1.LANE5    PL:ILLUMINA    LB:LIB-MOM-1    SM:MOM    PI:200\n",
      "@RG    ID:FLOWCELL1.LANE6    PL:ILLUMINA    LB:LIB-MOM-2    SM:MOM    PI:400\n",
      "\n",
      "Kid's data:\n",
      "\n",
      "@RG    ID:FLOWCELL2.LANE1    PL:ILLUMINA    LB:LIB-KID-1    SM:KID    PI:200\n",
      "@RG    ID:FLOWCELL2.LANE2    PL:ILLUMINA    LB:LIB-KID-2    SM:KID    PI:200"
     ]
    },
    {
     "cell_type": "markdown",
     "metadata": {},
     "source": [
      "Reference \n",
      "===\n",
      "\n",
      "[GATK] http://gatkforums.broadinstitute.org/discussion/1317/collected-faqs-about-bam-files"
     ]
    }
   ],
   "metadata": {}
  }
 ]
}